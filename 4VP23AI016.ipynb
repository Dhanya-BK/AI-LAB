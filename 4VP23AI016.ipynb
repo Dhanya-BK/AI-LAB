{
 "cells": [
  {
   "cell_type": "markdown",
   "id": "485b571a",
   "metadata": {},
   "source": [
    "## EXP:1.Implement and demonstrate depth first search algorithm and water jug problem"
   ]
  },
  {
   "cell_type": "code",
   "execution_count": 2,
   "id": "c425f6bb",
   "metadata": {},
   "outputs": [
    {
     "name": "stdout",
     "output_type": "stream",
     "text": [
      "Target reached\n",
      "operation : (4, 2)\n",
      "operation : (3, 3)\n",
      "operation : (3, 0)\n",
      "operation : (0, 3)\n",
      "operation : (4, 3)\n",
      "operation : (4, 0)\n"
     ]
    }
   ],
   "source": [
    "class WaterJugProblem:\n",
    "    def __init__(self,jug1_capacity,jug2_capacity,target):\n",
    "        self.jug1_capacity=jug1_capacity\n",
    "        self.jug2_capacity=jug2_capacity\n",
    "        self.target=target\n",
    "        self.visited=set()\n",
    "    def dfs(self,jug1,jug2):\n",
    "        if(jug1,jug2) in self.visited:\n",
    "            return False\n",
    "        self.visited.add((jug1,jug2))\n",
    "        if jug1==self.target or jug2==self.target:\n",
    "            print(\"Target reached\")\n",
    "            return True\n",
    "        operations=[(self.jug1_capacity,jug2),(jug1,self.jug2_capacity),(0,jug2),(jug1,0),\n",
    "                   (min(jug1+jug2,self.jug1_capacity),jug2-(min(jug1+jug2,self.jug1_capacity)-jug1)),\n",
    "                   (jug1-(min(jug1+jug2,self.jug2_capacity)-jug2),min(jug1+jug2,self.jug2_capacity))]\n",
    "        for operation in operations:\n",
    "            if self.dfs(*operation):\n",
    "                print(\"operation :\",operation)\n",
    "                return True\n",
    "        return False\n",
    "def main():\n",
    "    jug1_capacity=4\n",
    "    jug2_capacity=3\n",
    "    target=2\n",
    "    water_jug_problem=WaterJugProblem(jug1_capacity,jug2_capacity,target)\n",
    "    if not water_jug_problem.dfs(0,0):\n",
    "        print(\"Target cannot be reached !\")\n",
    "if __name__==\"__main__\":\n",
    "    main()\n",
    "\n",
    "        "
   ]
  },
  {
   "cell_type": "markdown",
   "id": "f5039c04",
   "metadata": {},
   "source": [
    "## EXP 5:N-Queens Problem"
   ]
  },
  {
   "cell_type": "code",
   "execution_count": 4,
   "id": "2b2e53b3",
   "metadata": {},
   "outputs": [
    {
     "name": "stdout",
     "output_type": "stream",
     "text": [
      "Enter the number of queens:\n",
      "8\n",
      "[1, 0, 0, 0, 0, 0, 0, 0]\n",
      "[0, 0, 0, 0, 1, 0, 0, 0]\n",
      "[0, 0, 0, 0, 0, 0, 0, 1]\n",
      "[0, 0, 0, 0, 0, 1, 0, 0]\n",
      "[0, 0, 1, 0, 0, 0, 0, 0]\n",
      "[0, 0, 0, 0, 0, 0, 1, 0]\n",
      "[0, 1, 0, 0, 0, 0, 0, 0]\n",
      "[0, 0, 0, 1, 0, 0, 0, 0]\n"
     ]
    }
   ],
   "source": [
    "print(\"Enter the number of queens:\");\n",
    "N=int(input())\n",
    "board=[[0]*N for _ in range(N)]\n",
    "def is_safe(row,col):\n",
    "    for i in range(row):\n",
    "        if board[i][col]==1:\n",
    "            return False\n",
    "    for i,j in zip(range(row,-1,-1),range(col,-1,-1)):\n",
    "        if board[i][j]==1:\n",
    "            return False\n",
    "    for i,j in zip(range(row,-1,-1),range(col,N)):\n",
    "        if board[i][j]==1:\n",
    "            return False\n",
    "    return True\n",
    "def solve(row):\n",
    "    if row>=N:\n",
    "        return True\n",
    "    for col in range(N):\n",
    "        if is_safe(row,col):\n",
    "            board[row][col]=1\n",
    "            if solve(row+1):\n",
    "                return True\n",
    "            board[row][col]=0\n",
    "    return False\n",
    "solve(0)\n",
    "for row in board:\n",
    "    print(row)"
   ]
  },
  {
   "cell_type": "markdown",
   "id": "2224f3ac",
   "metadata": {},
   "source": [
    "## EXP:6.Implementation of TSP using Heuristic approach"
   ]
  },
  {
   "cell_type": "code",
   "execution_count": 11,
   "id": "b97565f0",
   "metadata": {},
   "outputs": [
    {
     "name": "stdout",
     "output_type": "stream",
     "text": [
      "80\n"
     ]
    }
   ],
   "source": [
    "from sys import maxsize\n",
    "from itertools import permutations\n",
    "V=4\n",
    "\n",
    "def travellingSalesmanProblem(graph,s):\n",
    "    vertex=[]\n",
    "    for i in range(V):\n",
    "        if i!=s:\n",
    "            vertex.append(i)\n",
    "            \n",
    "    min_path=maxsize\n",
    "    next_permutation=permutations(vertex)\n",
    "    for i in next_permutation:\n",
    "        current_pathweight=0\n",
    "            \n",
    "        k=s\n",
    "        for j in i:\n",
    "            current_pathweight+=graph[k][j]\n",
    "            k=j\n",
    "        current_pathweight+=graph[k][s]\n",
    "                \n",
    "        min_path=min(min_path,current_pathweight)\n",
    "    return min_path\n",
    "if __name__ ==\"__main__\":\n",
    "    graph=[[0,10,15,20],[10,0,35,25],[15,35,0,30],[20,25,30,0]]\n",
    "    s=0\n",
    "    print(travellingSalesmanProblem(graph,s))"
   ]
  },
  {
   "cell_type": "markdown",
   "id": "6dbcda8a",
   "metadata": {},
   "source": [
    "## Exp:7.Problem solving strategy using forward or backward chaining"
   ]
  },
  {
   "cell_type": "code",
   "execution_count": 16,
   "id": "0a59fa37",
   "metadata": {},
   "outputs": [
    {
     "name": "stdout",
     "output_type": "stream",
     "text": [
      "The final state is: ['fresh', 'clean', 'smelly', 'dirty', 'clean', 'smelly']\n"
     ]
    }
   ],
   "source": [
    "initial_state=[\"fresh\"]\n",
    "rules=[{\"if\":[\"clean\",\"smelly\"],\"then\":[\"fresh\"]},{\"if\":[\"dirty\"],\"then\":[\"clean\"]}]\n",
    "goal=[\"dirty\",\"smelly\"]\n",
    "current_state=initial_state\n",
    "\n",
    "while not all(x in current_state for x in goal):\n",
    "    if all(x in current_state for x in goal):\n",
    "        break\n",
    "    for rule in reversed(rules):\n",
    "         if all(x in current_state for x in rule [\"then\"]):\n",
    "                current_state+=rule[\"if\"]\n",
    "print(\"The final state is:\",current_state)                                                                          \n",
    "                                                                         "
   ]
  },
  {
   "cell_type": "code",
   "execution_count": 18,
   "id": "0a7efe89",
   "metadata": {},
   "outputs": [
    {
     "name": "stdout",
     "output_type": "stream",
     "text": [
      "The final state is: ['dirty', 'smelly', 'clean', 'fresh']\n"
     ]
    }
   ],
   "source": [
    "initial_state=[\"dirty\",\"smelly\"]\n",
    "rules=[{\"if\":[\"dirty\"],\"then\":[\"clean\"]},{\"if\":[\"clean\",\"smelly\"],\"then\":[\"fresh\"]}]\n",
    "goal=[\"fresh\"]\n",
    "current_state=initial_state\n",
    "\n",
    "while not all(x in current_state for x in goal):\n",
    "    \n",
    "    for rule in rules:\n",
    "         if all(x in current_state for x in rule [\"if\"]):\n",
    "                current_state+=rule[\"then\"]\n",
    "print(\"The final state is:\",current_state)                                                                          \n",
    "                                                           "
   ]
  },
  {
   "cell_type": "markdown",
   "id": "cb2a89fd",
   "metadata": {},
   "source": [
    "## Exp 3:A* problem"
   ]
  },
  {
   "cell_type": "code",
   "execution_count": 5,
   "id": "c8ea7dbf",
   "metadata": {},
   "outputs": [
    {
     "name": "stdout",
     "output_type": "stream",
     "text": [
      "Path found:['A', 'F', 'G', 'I', 'J']\n"
     ]
    },
    {
     "data": {
      "text/plain": [
       "['A', 'F', 'G', 'I', 'J']"
      ]
     },
     "execution_count": 5,
     "metadata": {},
     "output_type": "execute_result"
    }
   ],
   "source": [
    "def aStarAlgo(start_node,stop_node):\n",
    "    open_set=set([start_node])\n",
    "    closed_set=set()\n",
    "    g={start_node:0}\n",
    "    parents={start_node:start_node}\n",
    "    \n",
    "    while open_set:\n",
    "        n=None\n",
    "        \n",
    "        for v in open_set:\n",
    "            if n is None or g[v]+heuristic(v)<g[n]+heuristic(n):\n",
    "                n=v\n",
    "                \n",
    "        if n is None:\n",
    "            print(\"Path does not exists!\")\n",
    "            return None\n",
    "        if n==stop_node:\n",
    "            path=[]\n",
    "            while parents[n]!=n:\n",
    "                path.append(n)\n",
    "                n=parents[n]\n",
    "            path.append(start_node)\n",
    "            path.reverse()\n",
    "            print(f\"Path found:{path}\")\n",
    "            return path\n",
    "        \n",
    "        open_set.remove(n)\n",
    "        closed_set.add(n)\n",
    "        \n",
    "        for (m,weight) in get_neighbors(n):\n",
    "            if m in closed_set:\n",
    "                continue\n",
    "                \n",
    "            tentative_g=g[n]+weight\n",
    "            \n",
    "            if m  not in open_set or tentative_g<g[m]:\n",
    "                g[m]=tentative_g\n",
    "                parents[m]=n\n",
    "                open_set.add(m)\n",
    "    print(\"Path does not exists!\")\n",
    "    return None\n",
    "\n",
    "def get_neighbors(v):\n",
    "    return Graph_nodes.get(v,[])\n",
    "\n",
    "def heuristic(n):\n",
    "    H_dist={'A':10,'B':8,'C':5,'D':7,'E':3,'F':6,'G':5,'H':3,'I':1,'J':0}\n",
    "    return H_dist[n]\n",
    "\n",
    "Graph_nodes={\n",
    "    'A':[('B',6),('F',3)],\n",
    "    'B':[('C',3),('D',2)],\n",
    "    'C':[('E',5),('D',1)],\n",
    "    'D':[('E',8)],\n",
    "    'E':[('I',5),('J',5)],\n",
    "    'F':[('G',1),('H',7)],\n",
    "    'G':[('I',3)],\n",
    "    'H':[('F',7),('I',2)],\n",
    "    'I':[('J',3)]\n",
    "}\n",
    "\n",
    "aStarAlgo('A','J')"
   ]
  },
  {
   "cell_type": "markdown",
   "id": "b9cb0c8b",
   "metadata": {},
   "source": [
    "## EXP 9: Tic-Tac-Toe"
   ]
  },
  {
   "cell_type": "code",
   "execution_count": 8,
   "id": "e4d94d92",
   "metadata": {},
   "outputs": [
    {
     "name": "stdout",
     "output_type": "stream",
     "text": [
      "Player 1 [X]--Player 2 [O]\n",
      "\n",
      "\n",
      "\n",
      "Please wait..\n",
      "\u001b[H\u001b[2J  |  |   \n",
      "__|__|__\n",
      "  |  |   \n",
      "__|__|__\n",
      "  |  |   \n",
      "  |  |  \n",
      "Player 1's chance\n",
      "Enter the position between [1-9] where you want to mark:1\n",
      "\u001b[H\u001b[2J X|  |   \n",
      "__|__|__\n",
      "  |  |   \n",
      "__|__|__\n",
      "  |  |   \n",
      "  |  |  \n",
      "Player 2's chance\n",
      "Enter the position between [1-9] where you want to mark:2\n",
      "\u001b[H\u001b[2J X| O|   \n",
      "__|__|__\n",
      "  |  |   \n",
      "__|__|__\n",
      "  |  |   \n",
      "  |  |  \n",
      "Player 1's chance\n",
      "Enter the position between [1-9] where you want to mark:4\n",
      "\u001b[H\u001b[2J X| O|   \n",
      "__|__|__\n",
      " X|  |   \n",
      "__|__|__\n",
      "  |  |   \n",
      "  |  |  \n",
      "Player 2's chance\n",
      "Enter the position between [1-9] where you want to mark:6\n",
      "\u001b[H\u001b[2J X| O|   \n",
      "__|__|__\n",
      " X|  | O \n",
      "__|__|__\n",
      "  |  |   \n",
      "  |  |  \n",
      "Player 1's chance\n",
      "Enter the position between [1-9] where you want to mark:7\n",
      "\u001b[H\u001b[2J X| O|   \n",
      "__|__|__\n",
      " X|  | O \n",
      "__|__|__\n",
      " X|  |   \n",
      "  |  |  \n",
      "Player 1 won\n"
     ]
    }
   ],
   "source": [
    "import os\n",
    "import time\n",
    "board=[' ',' ',' ',' ',' ',' ',' ',' ',' ',' ']\n",
    "player=1\n",
    "\n",
    "win=1\n",
    "Draw=-1\n",
    "running=0\n",
    "stop=1\n",
    "\n",
    "Game=running\n",
    "mark='X'\n",
    "\n",
    "def DrawBoard():\n",
    "    print(\" %c| %c| %c \"%(board[1],board[2],board[3]))\n",
    "    print(\"__|__|__\")\n",
    "    print(\" %c| %c| %c \"%(board[4],board[5],board[6]))\n",
    "    print(\"__|__|__\")\n",
    "    print(\" %c| %c| %c \"%(board[7],board[8],board[9]))\n",
    "    print(\"  |  |  \")\n",
    "    \n",
    "def checkposition(x):\n",
    "    if(board[x]==' '):\n",
    "        return True\n",
    "    else:\n",
    "        return False\n",
    "    \n",
    "def checkwin():\n",
    "    global Game\n",
    "    if(board[1]==board[2] and board[2]==board[3] and board[1]!=' '):\n",
    "        Game=win\n",
    "    elif(board[4]==board[5] and board[5]==board[6] and board[4]!=' '):\n",
    "        Game=win\n",
    "    elif(board[7]==board[8] and board[8]==board[9] and board[7]!=' '):\n",
    "        Game=win\n",
    "        \n",
    "    elif(board[1]==board[4] and board[4]==board[7] and board[1]!=' '):\n",
    "        Game=win\n",
    "    elif(board[2]==board[5] and board[5]==board[8] and board[2]!=' '):\n",
    "        Game=win\n",
    "    elif(board[3]==board[6] and board[6]==board[9] and board[3]!=' '):\n",
    "        Game=win\n",
    "        \n",
    "    elif(board[1]==board[5] and board[5]==board[9] and board[5]!=' '):\n",
    "        Game=win\n",
    "    elif(board[3]==board[5] and board[5]==board[7] and board[5]!=' '):\n",
    "        Game=win\n",
    "        \n",
    "        \n",
    "    elif(board[1]!=' ' and board[2]!=' ' and board[3]!=' ' and board[4]!=' ' and board[5]!=' ' and board[6]!=' ' and board[7]!=' ' and board[8]!=' ' and board[0]!=' '):\n",
    "        Game=Draw\n",
    "    else:\n",
    "        Game=running\n",
    "print(\"Player 1 [X]--Player 2 [O]\\n\")\n",
    "print()\n",
    "print()\n",
    "print(\"Please wait..\")\n",
    "time.sleep(3)\n",
    "while(Game==running):\n",
    "    os.system('clear')\n",
    "    DrawBoard()\n",
    "    if(player %2!=0):\n",
    "        print(\"Player 1's chance\")\n",
    "        Mark='X'\n",
    "    else:\n",
    "        print(\"Player 2's chance\")\n",
    "        Mark='O'\n",
    "    choice=int(input(\"Enter the position between [1-9] where you want to mark:\"))\n",
    "    if(checkposition(choice)):\n",
    "        board[choice]=Mark\n",
    "        player+=1\n",
    "        checkwin()\n",
    "os.system('clear')\n",
    "DrawBoard()\n",
    "if(Game==Draw):\n",
    "    print(\"Game Draw\")\n",
    "elif(Game==win):\n",
    "    player-=1\n",
    "    if(player % 2!=0):\n",
    "        print(\"Player 1 won\")\n",
    "    else:\n",
    "        print(\"Player 2 won\")\n",
    "\n",
    "    \n",
    "        \n",
    "    \n",
    "    \n",
    "   \n",
    "\n"
   ]
  },
  {
   "cell_type": "markdown",
   "id": "3e1c0fa7",
   "metadata": {},
   "source": [
    "## Exp :Chatbot"
   ]
  },
  {
   "cell_type": "code",
   "execution_count": 11,
   "id": "3ed20268",
   "metadata": {},
   "outputs": [
    {
     "name": "stdout",
     "output_type": "stream",
     "text": [
      "Simple questioning and answering program\n",
      "-------------------\n",
      "You may ask any one of these question\n",
      "Hi\n",
      "How are you\n",
      "Are you studying\n",
      "What is your name\n",
      "What did you do yesterday\n",
      "Quit\n",
      "Enter one question from above listhow are you\n",
      "I dont understand\n",
      "Enter one question from above listhi\n",
      "Hello\n",
      "Enter one question from above listquit\n"
     ]
    }
   ],
   "source": [
    "print(\"Simple questioning and answering program\")\n",
    "print(\"-------------------\")\n",
    "print(\"You may ask any one of these question\")\n",
    "print(\"Hi\")\n",
    "print(\"How are you\")\n",
    "print(\"Are you studying\")\n",
    "print(\"What is your name\")\n",
    "print(\"What did you do yesterday\")\n",
    "print(\"Quit\")\n",
    "while True:\n",
    "    question=input(\"Enter one question from above list\")\n",
    "    question=question.lower()\n",
    "    if question in ['hi']:\n",
    "        print(\"Hello\")\n",
    "    elif question in ['how are you','how do you do']:\n",
    "        print(\"I am fine\")\n",
    "    elif question in ['are you studying','are you doing any job']:\n",
    "        print(\"Yes.I am studying in VCET puttur\")\n",
    "    elif question in ['what is your name']:\n",
    "        print(\"My name is Dhanya\")\n",
    "        name=input(\"Enter your name\")\n",
    "        print(\"Nice name\")\n",
    "    elif question in ['what did you do yesterday']:\n",
    "        print(\"I saw a film\")\n",
    "    elif question in ['quit']:\n",
    "        break\n",
    "    else:\n",
    "        print(\"I dont understand\")\n",
    "    \n",
    "    "
   ]
  },
  {
   "cell_type": "markdown",
   "id": "38d72ee8",
   "metadata": {},
   "source": [
    "## exp:5"
   ]
  },
  {
   "cell_type": "code",
   "execution_count": 14,
   "id": "880a515f",
   "metadata": {},
   "outputs": [
    {
     "name": "stdout",
     "output_type": "stream",
     "text": [
      "The query '~p12' is disproved\n"
     ]
    }
   ],
   "source": [
    "def negate_literal(literal):\n",
    "    return literal[1:] if literal.startswith('~') else '~' + literal\n",
    "def resolve(clause1,clause2):\n",
    "    new_clause=[]\n",
    "    resolved=False\n",
    "    \n",
    "    for literal in clause1:\n",
    "        if negate_literal(literal) in clause2:\n",
    "            resloved=True\n",
    "        else:\n",
    "            new_clause.append(literal)\n",
    "    \n",
    "    for literal in clause2:\n",
    "        if negate_literal(literal)  not in clause1:\n",
    "            new_clause.append(literal)\n",
    "    \n",
    "    return new_clause if resolved else None\n",
    "def resolution(propositional_kb,query):\n",
    "    kb=[list(clause) for clause in propositional_kb]\n",
    "    kb.append([negate_literal(query)])\n",
    "    \n",
    "    while True:\n",
    "        new_clauses=[]\n",
    "        n=len(kb)\n",
    "        resolved_pairs=set()\n",
    "        \n",
    "        for i in range(n):\n",
    "            for j in range(i+1,n):\n",
    "                clause1=kb[i]\n",
    "                clause2=kb[j]\n",
    "                pair=(tuple(clause1),tuple(clause2))\n",
    "                      \n",
    "                if pair not in resolved_pairs:\n",
    "                      resolved_pairs.add(pair)\n",
    "                      resolvent=resolve(clause1,clause2)\n",
    "                      \n",
    "                      if resolvent is None:\n",
    "                         continue\n",
    "                      if len(resolvent)==0:\n",
    "                          return True\n",
    "                     \n",
    "                      if tuple(resolvent) not in [tuple(c) for c in kb+new_clauses]:\n",
    "                          new_clauses.append(resolvent)\n",
    "        if not new_clauses:\n",
    "            return False\n",
    "        kb.extend(new_clauses)\n",
    "if __name__==\"__main__\":\n",
    "        propositional_kb=[\n",
    "            ['B11','~P12'],\n",
    "            ['B11','~P21'],\n",
    "            ['~B11']\n",
    "        ]\n",
    "        query='~p12'\n",
    "        result = resolution(propositional_kb,query)\n",
    "                      \n",
    "        if result:\n",
    "                print(f\"The query '{query}' is proved\")\n",
    "        else:\n",
    "                print(f\"The query '{query}' is disproved\")"
   ]
  },
  {
   "cell_type": "code",
   "execution_count": null,
   "id": "6d1daf9e",
   "metadata": {},
   "outputs": [],
   "source": []
  },
  {
   "cell_type": "code",
   "execution_count": null,
   "id": "7f743637",
   "metadata": {},
   "outputs": [],
   "source": []
  }
 ],
 "metadata": {
  "kernelspec": {
   "display_name": "Python 3 (ipykernel)",
   "language": "python",
   "name": "python3"
  },
  "language_info": {
   "codemirror_mode": {
    "name": "ipython",
    "version": 3
   },
   "file_extension": ".py",
   "mimetype": "text/x-python",
   "name": "python",
   "nbconvert_exporter": "python",
   "pygments_lexer": "ipython3",
   "version": "3.10.14"
  }
 },
 "nbformat": 4,
 "nbformat_minor": 5
}
