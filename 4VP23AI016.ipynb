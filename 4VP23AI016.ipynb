{
 "cells": [
  {
   "cell_type": "markdown",
   "id": "485b571a",
   "metadata": {},
   "source": [
    "## EXP:1.Implement and demonstrate depth first search algorithm and water jug problem"
   ]
  },
  {
   "cell_type": "code",
   "execution_count": 2,
   "id": "c425f6bb",
   "metadata": {},
   "outputs": [
    {
     "name": "stdout",
     "output_type": "stream",
     "text": [
      "Target reached\n",
      "operation : (4, 2)\n",
      "operation : (3, 3)\n",
      "operation : (3, 0)\n",
      "operation : (0, 3)\n",
      "operation : (4, 3)\n",
      "operation : (4, 0)\n"
     ]
    }
   ],
   "source": [
    "class WaterJugProblem:\n",
    "    def __init__(self,jug1_capacity,jug2_capacity,target):\n",
    "        self.jug1_capacity=jug1_capacity\n",
    "        self.jug2_capacity=jug2_capacity\n",
    "        self.target=target\n",
    "        self.visited=set()\n",
    "    def dfs(self,jug1,jug2):\n",
    "        if(jug1,jug2) in self.visited:\n",
    "            return False\n",
    "        self.visited.add((jug1,jug2))\n",
    "        if jug1==self.target or jug2==self.target:\n",
    "            print(\"Target reached\")\n",
    "            return True\n",
    "        operations=[(self.jug1_capacity,jug2),(jug1,self.jug2_capacity),(0,jug2),(jug1,0),\n",
    "                   (min(jug1+jug2,self.jug1_capacity),jug2-(min(jug1+jug2,self.jug1_capacity)-jug1)),\n",
    "                   (jug1-(min(jug1+jug2,self.jug2_capacity)-jug2),min(jug1+jug2,self.jug2_capacity))]\n",
    "        for operation in operations:\n",
    "            if self.dfs(*operation):\n",
    "                print(\"operation :\",operation)\n",
    "                return True\n",
    "        return False\n",
    "def main():\n",
    "    jug1_capacity=4\n",
    "    jug2_capacity=3\n",
    "    target=2\n",
    "    water_jug_problem=WaterJugProblem(jug1_capacity,jug2_capacity,target)\n",
    "    if not water_jug_problem.dfs(0,0):\n",
    "        print(\"Target cannot be reached !\")\n",
    "if __name__==\"__main__\":\n",
    "    main()\n",
    "\n",
    "        "
   ]
  },
  {
   "cell_type": "markdown",
   "id": "f5039c04",
   "metadata": {},
   "source": [
    "## EXP 5:N-Queens Problem"
   ]
  },
  {
   "cell_type": "code",
   "execution_count": 4,
   "id": "2b2e53b3",
   "metadata": {},
   "outputs": [
    {
     "name": "stdout",
     "output_type": "stream",
     "text": [
      "Enter the number of queens:\n",
      "8\n",
      "[1, 0, 0, 0, 0, 0, 0, 0]\n",
      "[0, 0, 0, 0, 1, 0, 0, 0]\n",
      "[0, 0, 0, 0, 0, 0, 0, 1]\n",
      "[0, 0, 0, 0, 0, 1, 0, 0]\n",
      "[0, 0, 1, 0, 0, 0, 0, 0]\n",
      "[0, 0, 0, 0, 0, 0, 1, 0]\n",
      "[0, 1, 0, 0, 0, 0, 0, 0]\n",
      "[0, 0, 0, 1, 0, 0, 0, 0]\n"
     ]
    }
   ],
   "source": [
    "print(\"Enter the number of queens:\");\n",
    "N=int(input())\n",
    "board=[[0]*N for _ in range(N)]\n",
    "def is_safe(row,col):\n",
    "    for i in range(row):\n",
    "        if board[i][col]==1:\n",
    "            return False\n",
    "    for i,j in zip(range(row,-1,-1),range(col,-1,-1)):\n",
    "        if board[i][j]==1:\n",
    "            return False\n",
    "    for i,j in zip(range(row,-1,-1),range(col,N)):\n",
    "        if board[i][j]==1:\n",
    "            return False\n",
    "    return True\n",
    "def solve(row):\n",
    "    if row>=N:\n",
    "        return True\n",
    "    for col in range(N):\n",
    "        if is_safe(row,col):\n",
    "            board[row][col]=1\n",
    "            if solve(row+1):\n",
    "                return True\n",
    "            board[row][col]=0\n",
    "    return False\n",
    "solve(0)\n",
    "for row in board:\n",
    "    print(row)"
   ]
  },
  {
   "cell_type": "markdown",
   "id": "84e74552",
   "metadata": {},
   "source": [
    "## EXP:6.Implementation of TSP using Heuristic approach"
   ]
  },
  {
   "cell_type": "code",
   "execution_count": 11,
   "id": "400d0334",
   "metadata": {},
   "outputs": [
    {
     "name": "stdout",
     "output_type": "stream",
     "text": [
      "80\n"
     ]
    }
   ],
   "source": [
    "from sys import maxsize\n",
    "from itertools import permutations\n",
    "V=4\n",
    "\n",
    "def travellingSalesmanProblem(graph,s):\n",
    "    vertex=[]\n",
    "    for i in range(V):\n",
    "        if i!=s:\n",
    "            vertex.append(i)\n",
    "            \n",
    "    min_path=maxsize\n",
    "    next_permutation=permutations(vertex)\n",
    "    for i in next_permutation:\n",
    "        current_pathweight=0\n",
    "            \n",
    "        k=s\n",
    "        for j in i:\n",
    "            current_pathweight+=graph[k][j]\n",
    "            k=j\n",
    "        current_pathweight+=graph[k][s]\n",
    "                \n",
    "        min_path=min(min_path,current_pathweight)\n",
    "    return min_path\n",
    "if __name__ ==\"__main__\":\n",
    "    graph=[[0,10,15,20],[10,0,35,25],[15,35,0,30],[20,25,30,0]]\n",
    "    s=0\n",
    "    print(travellingSalesmanProblem(graph,s))"
   ]
  },
  {
   "cell_type": "markdown",
   "id": "c27268f0",
   "metadata": {},
   "source": [
    "## Exp:7.Problem solving strategy using forward or backward chaining"
   ]
  },
  {
   "cell_type": "code",
   "execution_count": 16,
   "id": "c5ddc441",
   "metadata": {},
   "outputs": [
    {
     "name": "stdout",
     "output_type": "stream",
     "text": [
      "The final state is: ['fresh', 'clean', 'smelly', 'dirty', 'clean', 'smelly']\n"
     ]
    }
   ],
   "source": [
    "initial_state=[\"fresh\"]\n",
    "rules=[{\"if\":[\"clean\",\"smelly\"],\"then\":[\"fresh\"]},{\"if\":[\"dirty\"],\"then\":[\"clean\"]}]\n",
    "goal=[\"dirty\",\"smelly\"]\n",
    "current_state=initial_state\n",
    "\n",
    "while not all(x in current_state for x in goal):\n",
    "    if all(x in current_state for x in goal):\n",
    "        break\n",
    "    for rule in reversed(rules):\n",
    "         if all(x in current_state for x in rule [\"then\"]):\n",
    "                current_state+=rule[\"if\"]\n",
    "print(\"The final state is:\",current_state)                                                                          \n",
    "                                                                         "
   ]
  },
  {
   "cell_type": "code",
   "execution_count": 18,
   "id": "afd1169d",
   "metadata": {},
   "outputs": [
    {
     "name": "stdout",
     "output_type": "stream",
     "text": [
      "The final state is: ['dirty', 'smelly', 'clean', 'fresh']\n"
     ]
    }
   ],
   "source": [
    "initial_state=[\"dirty\",\"smelly\"]\n",
    "rules=[{\"if\":[\"dirty\"],\"then\":[\"clean\"]},{\"if\":[\"clean\",\"smelly\"],\"then\":[\"fresh\"]}]\n",
    "goal=[\"fresh\"]\n",
    "current_state=initial_state\n",
    "\n",
    "while not all(x in current_state for x in goal):\n",
    "    \n",
    "    for rule in rules:\n",
    "         if all(x in current_state for x in rule [\"if\"]):\n",
    "                current_state+=rule[\"then\"]\n",
    "print(\"The final state is:\",current_state)                                                                          \n",
    "                                                           "
   ]
  },
  {
   "cell_type": "code",
   "execution_count": null,
   "id": "88ffb8b2",
   "metadata": {},
   "outputs": [],
   "source": []
  }
 ],
 "metadata": {
  "kernelspec": {
   "display_name": "Python 3 (ipykernel)",
   "language": "python",
   "name": "python3"
  },
  "language_info": {
   "codemirror_mode": {
    "name": "ipython",
    "version": 3
   },
   "file_extension": ".py",
   "mimetype": "text/x-python",
   "name": "python",
   "nbconvert_exporter": "python",
   "pygments_lexer": "ipython3",
   "version": "3.10.14"
  }
 },
 "nbformat": 4,
 "nbformat_minor": 5
}
